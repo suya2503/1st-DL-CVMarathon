{
  "nbformat": 4,
  "nbformat_minor": 0,
  "metadata": {
    "kernelspec": {
      "display_name": "Python 3",
      "language": "python",
      "name": "python3"
    },
    "language_info": {
      "codemirror_mode": {
        "name": "ipython",
        "version": 3
      },
      "file_extension": ".py",
      "mimetype": "text/x-python",
      "name": "python",
      "nbconvert_exporter": "python",
      "pygments_lexer": "ipython3",
      "version": "3.6.7"
    },
    "colab": {
      "name": "Day014_Batch Normalization_HW.ipynb",
      "provenance": []
    }
  },
  "cells": [
    {
      "cell_type": "markdown",
      "metadata": {
        "id": "bRdyXt39i3pz"
      },
      "source": [
        "## 『本次練習內容』\n",
        "#### 搭建 Conv2D-BN-Activation層\n"
      ]
    },
    {
      "cell_type": "markdown",
      "metadata": {
        "id": "Hn88N-9Ri3p3"
      },
      "source": [
        "## 『本次練習目的』\n",
        "  #### 了解如何搭建CNN基礎架構，Conv2D-BN-Activation"
      ]
    },
    {
      "cell_type": "code",
      "metadata": {
        "id": "4f-G-TINi8oQ"
      },
      "source": [
        "import tensorflow as tf\n",
        "from tensorflow.keras import layers, Sequential"
      ],
      "execution_count": 2,
      "outputs": []
    },
    {
      "cell_type": "markdown",
      "metadata": {
        "id": "0zX3oFaMi3p5"
      },
      "source": [
        "## 依照指示建立模型"
      ]
    },
    {
      "cell_type": "markdown",
      "metadata": {
        "id": "LQNDqqExkGM7"
      },
      "source": [
        "layers."
      ]
    },
    {
      "cell_type": "code",
      "metadata": {
        "colab": {
          "base_uri": "https://localhost:8080/"
        },
        "id": "UIDVMXv3rOEM",
        "outputId": "d09f5df8-b3fd-49ca-c4ce-b1243722dccb"
      },
      "source": [
        "# 以tf.keras撰寫 \n",
        "\n",
        "#BatchNormalization主要參數：\n",
        "#momentum: Momentum for the moving mean and the moving variance.\n",
        "#epsilon: Small float added to variance to avoid dividing by zero.\n",
        "\n",
        "model = Sequential()\n",
        "##  Conv2D-BN-Activation('sigmoid')\n",
        "model.add(layers.Conv2D(32, kernel_size=(3, 3), strides=1, padding='same'))\n",
        "model.add(layers.BatchNormalization(axis=-1, momentum=0.99, center=True, scale=True))\n",
        "model.add(layers.Activation('sigmoid'))\n",
        "\n",
        "##、 Conv2D-BN-Activation('relu')\n",
        "model.add(layers.Conv2D(32, kernel_size=(3, 3), strides=1, padding='same'))\n",
        "model.add(layers.BatchNormalization())\n",
        "model.add(layers.Activation('relu'))\n",
        "model.build(input_shape=(1, 32, 32, 3))\n",
        "\n",
        "model.summary()\n",
        "\n"
      ],
      "execution_count": 4,
      "outputs": [
        {
          "output_type": "stream",
          "text": [
            "Model: \"sequential_1\"\n",
            "_________________________________________________________________\n",
            "Layer (type)                 Output Shape              Param #   \n",
            "=================================================================\n",
            "conv2d (Conv2D)              (1, 32, 32, 32)           896       \n",
            "_________________________________________________________________\n",
            "batch_normalization (BatchNo (1, 32, 32, 32)           128       \n",
            "_________________________________________________________________\n",
            "activation (Activation)      (1, 32, 32, 32)           0         \n",
            "_________________________________________________________________\n",
            "conv2d_1 (Conv2D)            (1, 32, 32, 32)           9248      \n",
            "_________________________________________________________________\n",
            "batch_normalization_1 (Batch (1, 32, 32, 32)           128       \n",
            "_________________________________________________________________\n",
            "activation_1 (Activation)    (1, 32, 32, 32)           0         \n",
            "=================================================================\n",
            "Total params: 10,400\n",
            "Trainable params: 10,272\n",
            "Non-trainable params: 128\n",
            "_________________________________________________________________\n"
          ],
          "name": "stdout"
        }
      ]
    },
    {
      "cell_type": "code",
      "metadata": {
        "id": "S5Ls5z0Zi3p6"
      },
      "source": [
        ""
      ],
      "execution_count": null,
      "outputs": []
    }
  ]
}