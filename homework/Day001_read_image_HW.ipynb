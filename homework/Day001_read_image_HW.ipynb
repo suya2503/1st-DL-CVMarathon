{
 "cells": [
  {
   "cell_type": "markdown",
   "id": "e569bff0",
   "metadata": {
    "id": "e569bff0"
   },
   "source": [
    "## OpenCV\n",
    "\n",
    "1. 載入照片\n",
    "2. 顯示圖片"
   ]
  },
  {
   "cell_type": "markdown",
   "id": "9d10146a",
   "metadata": {},
   "source": [
    "解決無法讀入圖片的問題:\n",
    "https://www.796t.com/article.php?id=22235"
   ]
  },
  {
   "cell_type": "markdown",
   "id": "f1e9856f",
   "metadata": {
    "id": "f1e9856f"
   },
   "source": [
    "### 載入照片\n",
    "\n",
    "cv2.imread(path, 載入方式, )"
   ]
  },
  {
   "cell_type": "code",
   "execution_count": 1,
   "id": "5e5f8820",
   "metadata": {
    "id": "5e5f8820"
   },
   "outputs": [],
   "source": [
    "import cv2 # 匯入opencv套件\n",
    "import numpy as np\n",
    "\n",
    "from PIL import Image\n",
    "import os"
   ]
  },
  {
   "cell_type": "code",
   "execution_count": 2,
   "id": "3cc8daf8",
   "metadata": {
    "colab": {
     "base_uri": "https://localhost:8080/",
     "height": 365
    },
    "id": "3cc8daf8",
    "outputId": "96c35c16-b815-48a6-e92f-ed55b6a24a26"
   },
   "outputs": [
    {
     "name": "stdout",
     "output_type": "stream",
     "text": [
      "圖片大小:(499, 248)\n",
      "圖片格式:RGB\n",
      "<class 'numpy.ndarray'>\n",
      "(248, 499, 3)\n"
     ]
    }
   ],
   "source": [
    "# 讀入照片\n",
    "# 使用PIL讀檔\n",
    "data_dir = 'D:\\code\\python\\Tensorflow_learning\\TF2.x\\TF_Neural Network(NN)'\n",
    "file_name = 'Lenna.jpg'\n",
    "img = Image.open(os.path.join(data_dir, file_name))\n",
    "print('圖片大小:{}'.format(img.size))\n",
    "print('圖片格式:{}'.format(img.mode))\n",
    "\n",
    "# 使用opencv讀檔\n",
    "img_another = cv2.imdecode(np.fromfile(os.path.join(data_dir, file_name)), -1)\n",
    "# img = cv2.imread('‪/content/drive/MyDrive/TeleCAN/Data/Test/IMG_2643.jpg',cv2.IMREAD_COLOR)\n",
    "\n",
    "print(type(img_another))\n",
    "print(img_another.shape)"
   ]
  },
  {
   "cell_type": "code",
   "execution_count": 3,
   "id": "080e54d5",
   "metadata": {},
   "outputs": [
    {
     "name": "stdout",
     "output_type": "stream",
     "text": [
      "<class 'numpy.ndarray'>\n",
      "(248, 499, 3)\n",
      "<class 'numpy.ndarray'>\n",
      "(248, 499)\n"
     ]
    }
   ],
   "source": [
    "# 原始方式讀檔\n",
    "# 可以改變讀檔方式\n",
    "img = cv2.imread(os.path.join(data_dir, file_name), \n",
    "                cv2.IMREAD_COLOR) # 以彩色圖片的方式載入\n",
    "img_grey = cv2.imread(os.path.join(data_dir, file_name),\n",
    "                     cv2.IMREAD_GRAYSCALE) # 以灰階圖片的方式載入\n",
    "print(type(img))\n",
    "print(img.shape)\n",
    "\n",
    "print(type(img_grey))\n",
    "print(img_grey.shape)"
   ]
  },
  {
   "cell_type": "markdown",
   "id": "015f1de6",
   "metadata": {},
   "source": [
    "### 顯示照片"
   ]
  },
  {
   "cell_type": "code",
   "execution_count": 4,
   "id": "1326d0f8",
   "metadata": {
    "id": "1326d0f8",
    "outputId": "fc33772a-16b6-4cf4-cdc1-3154a84b4485"
   },
   "outputs": [],
   "source": [
    "# 顯示圖片\n",
    "# 由於要不斷顯示照片, 需要以迴圈方式進行\n",
    "\n",
    "while True:\n",
    "    # 顯示圖片\n",
    "    cv2.imshow('Colorful picture', img)\n",
    "    cv2.imshow('Grey picture', img_grey)\n",
    "    # 直到按下 ESC 鍵才會自動關閉視窗結束程式\n",
    "    k = cv2.waitKey(0)\n",
    "    if k == 27:\n",
    "        cv2.destroyAllWindows()\n",
    "        break"
   ]
  },
  {
   "cell_type": "markdown",
   "id": "d5ac05c4",
   "metadata": {},
   "source": [
    "### 作業"
   ]
  },
  {
   "cell_type": "code",
   "execution_count": 10,
   "id": "7ad10680",
   "metadata": {},
   "outputs": [
    {
     "name": "stdout",
     "output_type": "stream",
     "text": [
      "<class 'numpy.ndarray'>\n"
     ]
    }
   ],
   "source": [
    "data_dir = 'D:\\code\\python\\Tensorflow_learning\\TF2.x\\TF_Neural Network(NN)'\n",
    "file_name = 'Lenna.jpg'\n",
    "\n",
    "img = cv2.imread(os.path.join(data_dir, file_name),-1)\n",
    "print(type(img))\n",
    "# 把圖片合併起來方便一起看\n",
    "\n",
    "img_R = img[:, :, 0] \n",
    "img_G = img[:, :, 1]\n",
    "img_B = img[:, :, 2]\n",
    "img_concat = np.hstack((img_R, img_G, img_B))\n",
    "\n",
    "# 顯示照片\n",
    "\n",
    "while True:\n",
    "    # 顯示照片\n",
    "    cv2.imshow('R channel', img_R)\n",
    "    cv2.imshow('G channel', img_G)\n",
    "    cv2.imshow('B shannel', img_B)\n",
    "    cv2.imshow('Colorful picture(original)', img)\n",
    "    cv2.imshow('bgr_split', img_concat)\n",
    "    \n",
    "    k = cv2.waitKey(0)\n",
    "    if k == 27:\n",
    "        cv2.destroyAllWindows()\n",
    "        break"
   ]
  },
  {
   "cell_type": "code",
   "execution_count": null,
   "id": "12e03fa2",
   "metadata": {},
   "outputs": [],
   "source": []
  }
 ],
 "metadata": {
  "colab": {
   "collapsed_sections": [],
   "name": "opencv學習.ipynb",
   "provenance": []
  },
  "kernelspec": {
   "display_name": "Python 3",
   "language": "python",
   "name": "python3"
  },
  "language_info": {
   "codemirror_mode": {
    "name": "ipython",
    "version": 3
   },
   "file_extension": ".py",
   "mimetype": "text/x-python",
   "name": "python",
   "nbconvert_exporter": "python",
   "pygments_lexer": "ipython3",
   "version": "3.7.10"
  }
 },
 "nbformat": 4,
 "nbformat_minor": 5
}
