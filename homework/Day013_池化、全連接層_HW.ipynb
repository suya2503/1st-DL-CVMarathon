{
  "nbformat": 4,
  "nbformat_minor": 0,
  "metadata": {
    "colab": {
      "name": "Day013_池化、全連接層_HW.ipynb",
      "provenance": []
    },
    "kernelspec": {
      "display_name": "Python 3",
      "language": "python",
      "name": "python3"
    },
    "language_info": {
      "codemirror_mode": {
        "name": "ipython",
        "version": 3
      },
      "file_extension": ".py",
      "mimetype": "text/x-python",
      "name": "python",
      "nbconvert_exporter": "python",
      "pygments_lexer": "ipython3",
      "version": "3.6.7"
    }
  },
  "cells": [
    {
      "cell_type": "markdown",
      "metadata": {
        "id": "pNGB8Bvr98KQ"
      },
      "source": [
        "## 『作業內容』\n",
        "####   依照指示，搭建Maxpooling層與全連接層"
      ]
    },
    {
      "cell_type": "markdown",
      "metadata": {
        "id": "kq27aaOv98KU"
      },
      "source": [
        "## 『目標』\n",
        "####   了解Maxpooling的原理與CNN、FC層連結的方式"
      ]
    },
    {
      "cell_type": "code",
      "metadata": {
        "id": "aXOM67oq99ko"
      },
      "source": [
        "import tensorflow as tf\n",
        "from tensorflow.keras import layers, Sequential"
      ],
      "execution_count": 1,
      "outputs": []
    },
    {
      "cell_type": "code",
      "metadata": {
        "colab": {
          "base_uri": "https://localhost:8080/"
        },
        "id": "y_8qan3Q-UMB",
        "outputId": "ab8a4236-fc3d-42ff-e12a-f1fe4e62489e"
      },
      "source": [
        "x = tf.random.normal(shape=(5, 32, 32, 3))\n",
        "classifier = Sequential([\n",
        "                         layers.Conv2D(32, kernel_size=(3, 3), strides=1, padding='same'),\n",
        "                         layers.MaxPooling2D(pool_size=(2, 2), strides=2), \n",
        "                         layers.Conv2D(64, kernel_size=(3, 3), padding='same'),\n",
        "                         layers.MaxPooling2D(pool_size=(2, 2), strides=2),\n",
        "                         layers.Conv2D(128, kernel_size=(3, 3), strides=1, padding='same'),\n",
        "                         layers.MaxPooling2D(pool_size=(2, 2), strides=2),\n",
        "                         layers.Conv2D(10, kernel_size=(3, 3), strides=1, padding='same'),\n",
        "                         layers.Flatten(),\n",
        "                         layers.Dense(28)])\n",
        "classifier.build(input_shape=(None, 32, 32, 3))\n",
        "out = classifier(x)\n",
        "print(out.shape)\n",
        "\n",
        "classifier.summary()"
      ],
      "execution_count": 5,
      "outputs": [
        {
          "output_type": "stream",
          "text": [
            "(5, 28)\n",
            "Model: \"sequential_3\"\n",
            "_________________________________________________________________\n",
            "Layer (type)                 Output Shape              Param #   \n",
            "=================================================================\n",
            "conv2d_9 (Conv2D)            (None, 32, 32, 32)        896       \n",
            "_________________________________________________________________\n",
            "max_pooling2d_7 (MaxPooling2 (None, 16, 16, 32)        0         \n",
            "_________________________________________________________________\n",
            "conv2d_10 (Conv2D)           (None, 16, 16, 64)        18496     \n",
            "_________________________________________________________________\n",
            "max_pooling2d_8 (MaxPooling2 (None, 8, 8, 64)          0         \n",
            "_________________________________________________________________\n",
            "conv2d_11 (Conv2D)           (None, 8, 8, 128)         73856     \n",
            "_________________________________________________________________\n",
            "max_pooling2d_9 (MaxPooling2 (None, 4, 4, 128)         0         \n",
            "_________________________________________________________________\n",
            "conv2d_12 (Conv2D)           (None, 4, 4, 10)          11530     \n",
            "_________________________________________________________________\n",
            "flatten_2 (Flatten)          (None, 160)               0         \n",
            "_________________________________________________________________\n",
            "dense_2 (Dense)              (None, 28)                4508      \n",
            "=================================================================\n",
            "Total params: 109,286\n",
            "Trainable params: 109,286\n",
            "Non-trainable params: 0\n",
            "_________________________________________________________________\n"
          ],
          "name": "stdout"
        }
      ]
    },
    {
      "cell_type": "code",
      "metadata": {
        "colab": {
          "base_uri": "https://localhost:8080/"
        },
        "id": "QICvXofg_ekE",
        "outputId": "a56fc864-1acd-4bb0-e6ab-1fc4bd87675f"
      },
      "source": [
        "x = tf.random.normal(shape=(5, 32, 32, 3))\n",
        "classifier2 = Sequential([\n",
        "                         layers.Conv2D(32, kernel_size=(3, 3), strides=1, padding='same'),\n",
        "                         layers.MaxPooling2D(pool_size=(2, 2), strides=2), \n",
        "                         layers.Conv2D(64, kernel_size=(3, 3), padding='same'),\n",
        "                         layers.MaxPooling2D(pool_size=(2, 2), strides=2),\n",
        "                         layers.Conv2D(128, kernel_size=(3, 3), strides=1, padding='same'),\n",
        "                         layers.MaxPooling2D(pool_size=(2, 2), strides=2),\n",
        "                         layers.Conv2D(10, kernel_size=(3, 3), strides=1, padding='same'),\n",
        "                         layers.GlobalAveragePooling2D(),\n",
        "                         layers.Dense(28)])\n",
        "classifier2.build(input_shape=(None, 32, 32, 3))\n",
        "out2 = classifier2(x)\n",
        "print(out2.shape)\n",
        "\n",
        "classifier2.summary()"
      ],
      "execution_count": 6,
      "outputs": [
        {
          "output_type": "stream",
          "text": [
            "(5, 28)\n",
            "Model: \"sequential_4\"\n",
            "_________________________________________________________________\n",
            "Layer (type)                 Output Shape              Param #   \n",
            "=================================================================\n",
            "conv2d_13 (Conv2D)           (None, 32, 32, 32)        896       \n",
            "_________________________________________________________________\n",
            "max_pooling2d_10 (MaxPooling (None, 16, 16, 32)        0         \n",
            "_________________________________________________________________\n",
            "conv2d_14 (Conv2D)           (None, 16, 16, 64)        18496     \n",
            "_________________________________________________________________\n",
            "max_pooling2d_11 (MaxPooling (None, 8, 8, 64)          0         \n",
            "_________________________________________________________________\n",
            "conv2d_15 (Conv2D)           (None, 8, 8, 128)         73856     \n",
            "_________________________________________________________________\n",
            "max_pooling2d_12 (MaxPooling (None, 4, 4, 128)         0         \n",
            "_________________________________________________________________\n",
            "conv2d_16 (Conv2D)           (None, 4, 4, 10)          11530     \n",
            "_________________________________________________________________\n",
            "global_average_pooling2d (Gl (None, 10)                0         \n",
            "_________________________________________________________________\n",
            "dense_3 (Dense)              (None, 28)                308       \n",
            "=================================================================\n",
            "Total params: 105,086\n",
            "Trainable params: 105,086\n",
            "Non-trainable params: 0\n",
            "_________________________________________________________________\n"
          ],
          "name": "stdout"
        }
      ]
    },
    {
      "cell_type": "code",
      "metadata": {
        "id": "fp2H7BuZ98KW"
      },
      "source": [
        ""
      ],
      "execution_count": null,
      "outputs": []
    }
  ]
}