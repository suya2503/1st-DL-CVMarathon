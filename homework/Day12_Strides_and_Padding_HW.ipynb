{
  "nbformat": 4,
  "nbformat_minor": 0,
  "metadata": {
    "colab": {
      "name": "Day12_Strides and Padding_HW.ipynb",
      "provenance": []
    },
    "kernelspec": {
      "display_name": "Python 3",
      "language": "python",
      "name": "python3"
    },
    "language_info": {
      "codemirror_mode": {
        "name": "ipython",
        "version": 3
      },
      "file_extension": ".py",
      "mimetype": "text/x-python",
      "name": "python",
      "nbconvert_exporter": "python",
      "pygments_lexer": "ipython3",
      "version": "3.6.7"
    },
    "accelerator": "GPU"
  },
  "cells": [
    {
      "cell_type": "markdown",
      "metadata": {
        "id": "0BBfdBwkyTiQ"
      },
      "source": [
        "## 『作業內容』\n",
        "####   依照指示，透過調整Padding、Strides參數控制輸出Feature map大小\n"
      ]
    },
    {
      "cell_type": "markdown",
      "metadata": {
        "id": "7CtbcEb4yTiT"
      },
      "source": [
        "## 『目標』\n",
        "####   了解輸出feature map尺寸變化原理"
      ]
    },
    {
      "cell_type": "code",
      "metadata": {
        "id": "iGX3ebdI0HPS"
      },
      "source": [
        "import tensorflow as tf\n",
        "from tensorflow.keras import Sequential, layers"
      ],
      "execution_count": 2,
      "outputs": []
    },
    {
      "cell_type": "code",
      "metadata": {
        "colab": {
          "base_uri": "https://localhost:8080/"
        },
        "id": "QasjKNYS0OHC",
        "outputId": "157ec554-1055-41d5-c9c5-8080a0959f92"
      },
      "source": [
        "##kernel size=(6,6)\n",
        "##kernel數量：32\n",
        "\n",
        "## Same padding、strides=(1,1)\n",
        "x = tf.random.normal(shape=(1, 13, 13, 1))\n",
        "classifier = Sequential()\n",
        "classifier.add(layers.Conv2D(32, kernel_size=(6, 6), activation='relu', strides=1, padding='same'))\n",
        "classifier.build(input_shape=(None, 13, 13, 1))\n",
        "print(classifier.summary())\n",
        "out = classifier(x)\n",
        "print('輸出的Feature map大小:{}'.format(out.shape))"
      ],
      "execution_count": 3,
      "outputs": [
        {
          "output_type": "stream",
          "text": [
            "Model: \"sequential\"\n",
            "_________________________________________________________________\n",
            "Layer (type)                 Output Shape              Param #   \n",
            "=================================================================\n",
            "conv2d (Conv2D)              (None, 13, 13, 32)        1184      \n",
            "=================================================================\n",
            "Total params: 1,184\n",
            "Trainable params: 1,184\n",
            "Non-trainable params: 0\n",
            "_________________________________________________________________\n",
            "None\n",
            "輸出的Feature map大小:(1, 13, 13, 32)\n"
          ],
          "name": "stdout"
        }
      ]
    },
    {
      "cell_type": "code",
      "metadata": {
        "colab": {
          "base_uri": "https://localhost:8080/"
        },
        "id": "-uyrqd8V0irQ",
        "outputId": "1d323875-b880-44a7-fc9c-65f93a06b3ce"
      },
      "source": [
        "## Same padding、strides=(2,2)\n",
        "classifier2 = Sequential()\n",
        "classifier2.add(layers.Conv2D(32, kernel_size=(6, 6), strides=2, padding='same'))\n",
        "classifier2.build(input_shape=(None, 13, 13, 1))\n",
        "print(classifier2.summary())\n",
        "\n",
        "out2 = classifier2(x)\n",
        "\n",
        "print(out2.shape)\n",
        "\n",
        "## 所以輸出的feature maps大小為ceil(float(inpute size)/float(stride))=ceil(6.5)=7"
      ],
      "execution_count": 4,
      "outputs": [
        {
          "output_type": "stream",
          "text": [
            "Model: \"sequential_1\"\n",
            "_________________________________________________________________\n",
            "Layer (type)                 Output Shape              Param #   \n",
            "=================================================================\n",
            "conv2d_1 (Conv2D)            (None, 7, 7, 32)          1184      \n",
            "=================================================================\n",
            "Total params: 1,184\n",
            "Trainable params: 1,184\n",
            "Non-trainable params: 0\n",
            "_________________________________________________________________\n",
            "None\n",
            "(1, 7, 7, 32)\n"
          ],
          "name": "stdout"
        }
      ]
    },
    {
      "cell_type": "code",
      "metadata": {
        "colab": {
          "base_uri": "https://localhost:8080/"
        },
        "id": "jo9xn79Q05eE",
        "outputId": "82435813-38b6-4e27-ec78-97a55e6402cf"
      },
      "source": [
        "## Valid padding、strides=(1,1)\n",
        "classifier3 = Sequential([layers.Conv2D(32, kernel_size=(6, 6), strides=1, padding='VALID')])\n",
        "classifier3.build(input_shape=(None, 13, 13, 1))\n",
        "print(classifier3.summary())\n",
        "out3 = classifier3(x)\n",
        "print('輸出的Feature map大小:{}'.format(out3.shape))\n",
        "## 所以輸出的feature maps大小為ceil(float(inpute size)-float(kernel size)+1/float(stride))= (13 + 2*0 - 6)/1 + 1 = 8"
      ],
      "execution_count": 5,
      "outputs": [
        {
          "output_type": "stream",
          "text": [
            "Model: \"sequential_2\"\n",
            "_________________________________________________________________\n",
            "Layer (type)                 Output Shape              Param #   \n",
            "=================================================================\n",
            "conv2d_2 (Conv2D)            (None, 8, 8, 32)          1184      \n",
            "=================================================================\n",
            "Total params: 1,184\n",
            "Trainable params: 1,184\n",
            "Non-trainable params: 0\n",
            "_________________________________________________________________\n",
            "None\n",
            "輸出的Feature map大小:(1, 8, 8, 32)\n"
          ],
          "name": "stdout"
        }
      ]
    },
    {
      "cell_type": "code",
      "metadata": {
        "colab": {
          "base_uri": "https://localhost:8080/"
        },
        "id": "pyA9eDly20oE",
        "outputId": "9e448f7d-9ebb-4782-cbcc-f95309d5ae80"
      },
      "source": [
        "## Valid padding、strides=(2,2)\n",
        "classifier4 = Sequential([layers.Conv2D(32, kernel_size=(6, 6), strides=2, padding='VALID')])\n",
        "classifier4.build(input_shape=(None, 13, 13, 1))\n",
        "print(classifier4.summary())\n",
        "out4 = classifier4(x)\n",
        "print('輸出的Feature map大小:{}'.format(out4.shape))\n",
        "## 所以輸出的feature maps大小為ceil(float(inpute size)-float(kernel size)+1/float(stride))= (13 + 2*0 - 6)/2 + 1 = floor(4.5) = 4"
      ],
      "execution_count": 6,
      "outputs": [
        {
          "output_type": "stream",
          "text": [
            "Model: \"sequential_3\"\n",
            "_________________________________________________________________\n",
            "Layer (type)                 Output Shape              Param #   \n",
            "=================================================================\n",
            "conv2d_3 (Conv2D)            (None, 4, 4, 32)          1184      \n",
            "=================================================================\n",
            "Total params: 1,184\n",
            "Trainable params: 1,184\n",
            "Non-trainable params: 0\n",
            "_________________________________________________________________\n",
            "None\n",
            "輸出的Feature map大小:(1, 4, 4, 32)\n"
          ],
          "name": "stdout"
        }
      ]
    },
    {
      "cell_type": "code",
      "metadata": {
        "id": "2fhi3otQyTiU"
      },
      "source": [
        ""
      ],
      "execution_count": null,
      "outputs": []
    }
  ]
}